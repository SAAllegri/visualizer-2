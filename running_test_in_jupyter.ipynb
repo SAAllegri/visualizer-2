{
 "cells": [
  {
   "cell_type": "code",
   "execution_count": 1,
   "id": "dadb2202",
   "metadata": {},
   "outputs": [],
   "source": [
    "# from IPython import display\n",
    "from app import app as app_testing\n",
    "from generate_graph import Generate_Graph"
   ]
  },
  {
   "cell_type": "code",
   "execution_count": 2,
   "id": "7235d4fa",
   "metadata": {},
   "outputs": [
    {
     "name": "stdout",
     "output_type": "stream",
     "text": [
      "Dash is running on http://127.0.0.1:999/\n",
      "\n",
      " * Serving Flask app '__main__' (lazy loading)\n",
      " * Environment: production\n",
      "\u001b[31m   WARNING: This is a development server. Do not use it in a production deployment.\u001b[0m\n",
      "\u001b[2m   Use a production WSGI server instead.\u001b[0m\n",
      " * Debug mode: off\n"
     ]
    },
    {
     "name": "stderr",
     "output_type": "stream",
     "text": [
      " * Running on http://127.0.0.1:999/ (Press CTRL+C to quit)\n",
      "127.0.0.1 - - [24/Jan/2022 19:07:53] \"GET / HTTP/1.1\" 200 -\n",
      "127.0.0.1 - - [24/Jan/2022 19:07:53] \"GET /assets/custom_styles.css?m=1643055302.1938758 HTTP/1.1\" 200 -\n",
      "127.0.0.1 - - [24/Jan/2022 19:07:53] \"GET /_dash-component-suites/dash/deps/polyfill@7.v2_0_0m1632235559.12.1.min.js HTTP/1.1\" 200 -\n",
      "127.0.0.1 - - [24/Jan/2022 19:07:53] \"GET /_dash-component-suites/dash/deps/react@16.v2_0_0m1632235559.14.0.min.js HTTP/1.1\" 200 -\n",
      "127.0.0.1 - - [24/Jan/2022 19:07:53] \"GET /_dash-component-suites/dash/deps/react-dom@16.v2_0_0m1632235559.14.0.min.js HTTP/1.1\" 200 -\n",
      "127.0.0.1 - - [24/Jan/2022 19:07:53] \"GET /_dash-component-suites/dash/deps/prop-types@15.v2_0_0m1632235559.7.2.min.js HTTP/1.1\" 200 -\n",
      "127.0.0.1 - - [24/Jan/2022 19:07:53] \"GET /_dash-component-suites/dash_html_components/dash_html_components.v1_0_1m1576596177.min.js HTTP/1.1\" 200 -\n",
      "127.0.0.1 - - [24/Jan/2022 19:07:53] \"GET /_dash-component-suites/dash_cytoscape/dash_cytoscape.v0_2_0m1619800188.min.js HTTP/1.1\" 200 -\n",
      "127.0.0.1 - - [24/Jan/2022 19:07:53] \"GET /_dash-component-suites/dash_core_components/plotly-1.v1_3_1m1576595950.50.1.min.js HTTP/1.1\" 200 -\n",
      "127.0.0.1 - - [24/Jan/2022 19:07:53] \"GET /_dash-component-suites/dash_core_components/highlight.v1_3_1m1576595950.pack.js HTTP/1.1\" 200 -\n",
      "127.0.0.1 - - [24/Jan/2022 19:07:53] \"GET /_dash-component-suites/dash_core_components/dash_core_components.v1_3_1m1576595950.min.js HTTP/1.1\" 200 -\n",
      "127.0.0.1 - - [24/Jan/2022 19:07:53] \"GET /_dash-component-suites/dash_table/bundle.v4_4_1m1630660294.js HTTP/1.1\" 200 -\n",
      "127.0.0.1 - - [24/Jan/2022 19:07:53] \"GET /_dash-component-suites/dash_bootstrap_components/_components/dash_bootstrap_components.v1_0_1m1638104223.min.js HTTP/1.1\" 200 -\n",
      "127.0.0.1 - - [24/Jan/2022 19:07:53] \"GET /_dash-component-suites/dash/dash-renderer/build/dash_renderer.v2_0_0m1632235559.min.js HTTP/1.1\" 200 -\n",
      "127.0.0.1 - - [24/Jan/2022 19:07:53] \"GET /_dash-component-suites/dash/dcc/dash_core_components.v2_0_0m1632235559.js HTTP/1.1\" 200 -\n",
      "127.0.0.1 - - [24/Jan/2022 19:07:53] \"GET /_dash-component-suites/dash/dcc/dash_core_components-shared.v2_0_0m1632235559.js HTTP/1.1\" 200 -\n",
      "127.0.0.1 - - [24/Jan/2022 19:07:53] \"GET /_dash-component-suites/dash/html/dash_html_components.v2_0_0m1632235559.min.js HTTP/1.1\" 200 -\n",
      "127.0.0.1 - - [24/Jan/2022 19:07:53] \"GET /_dash-component-suites/dash/dash_table/bundle.v5_0_0m1632235559.js HTTP/1.1\" 200 -\n",
      "127.0.0.1 - - [24/Jan/2022 19:07:53] \"GET /_dash-dependencies HTTP/1.1\" 200 -\n",
      "127.0.0.1 - - [24/Jan/2022 19:07:53] \"GET /_favicon.ico?v=2.0.0 HTTP/1.1\" 200 -\n",
      "127.0.0.1 - - [24/Jan/2022 19:07:53] \"GET /_dash-layout HTTP/1.1\" 200 -\n",
      "127.0.0.1 - - [24/Jan/2022 19:07:53] \"GET /_dash-component-suites/dash/dcc/async-slider.js HTTP/1.1\" 200 -\n",
      "127.0.0.1 - - [24/Jan/2022 19:07:53] \"GET /_dash-component-suites/dash/dcc/async-dropdown.js HTTP/1.1\" 200 -\n",
      "127.0.0.1 - - [24/Jan/2022 19:07:54] \"GET /_dash-component-suites/dash/dash_table/async-highlight.js HTTP/1.1\" 200 -\n",
      "127.0.0.1 - - [24/Jan/2022 19:07:54] \"GET /_dash-component-suites/dash/dash_table/async-table.js HTTP/1.1\" 200 -\n",
      "127.0.0.1 - - [24/Jan/2022 19:07:54] \"POST /_dash-update-component HTTP/1.1\" 200 -\n",
      "127.0.0.1 - - [24/Jan/2022 19:07:54] \"POST /_dash-update-component HTTP/1.1\" 200 -\n",
      "127.0.0.1 - - [24/Jan/2022 19:07:54] \"POST /_dash-update-component HTTP/1.1\" 200 -\n",
      "127.0.0.1 - - [24/Jan/2022 19:07:54] \"POST /_dash-update-component HTTP/1.1\" 200 -\n",
      "127.0.0.1 - - [24/Jan/2022 19:07:54] \"POST /_dash-update-component HTTP/1.1\" 200 -\n",
      "127.0.0.1 - - [24/Jan/2022 19:07:54] \"POST /_dash-update-component HTTP/1.1\" 200 -\n",
      "127.0.0.1 - - [24/Jan/2022 19:07:54] \"POST /_dash-update-component HTTP/1.1\" 200 -\n",
      "127.0.0.1 - - [24/Jan/2022 19:07:54] \"POST /_dash-update-component HTTP/1.1\" 200 -\n",
      "127.0.0.1 - - [24/Jan/2022 19:08:13] \"POST /_dash-update-component HTTP/1.1\" 200 -\n",
      "127.0.0.1 - - [24/Jan/2022 19:08:14] \"POST /_dash-update-component HTTP/1.1\" 200 -\n",
      "127.0.0.1 - - [24/Jan/2022 19:08:15] \"POST /_dash-update-component HTTP/1.1\" 200 -\n",
      "127.0.0.1 - - [24/Jan/2022 19:08:16] \"POST /_dash-update-component HTTP/1.1\" 200 -\n",
      "127.0.0.1 - - [24/Jan/2022 19:08:17] \"POST /_dash-update-component HTTP/1.1\" 200 -\n",
      "127.0.0.1 - - [24/Jan/2022 19:08:17] \"POST /_dash-update-component HTTP/1.1\" 200 -\n",
      "127.0.0.1 - - [24/Jan/2022 19:08:18] \"POST /_dash-update-component HTTP/1.1\" 200 -\n",
      "127.0.0.1 - - [24/Jan/2022 19:08:20] \"POST /_dash-update-component HTTP/1.1\" 200 -\n",
      "127.0.0.1 - - [24/Jan/2022 19:08:21] \"POST /_dash-update-component HTTP/1.1\" 200 -\n",
      "127.0.0.1 - - [24/Jan/2022 19:08:21] \"POST /_dash-update-component HTTP/1.1\" 200 -\n",
      "127.0.0.1 - - [24/Jan/2022 19:08:23] \"POST /_dash-update-component HTTP/1.1\" 200 -\n",
      "127.0.0.1 - - [24/Jan/2022 19:08:24] \"POST /_dash-update-component HTTP/1.1\" 200 -\n",
      "127.0.0.1 - - [24/Jan/2022 19:08:24] \"POST /_dash-update-component HTTP/1.1\" 200 -\n",
      "127.0.0.1 - - [24/Jan/2022 19:08:25] \"POST /_dash-update-component HTTP/1.1\" 200 -\n",
      "127.0.0.1 - - [24/Jan/2022 19:08:25] \"POST /_dash-update-component HTTP/1.1\" 200 -\n",
      "127.0.0.1 - - [24/Jan/2022 19:08:26] \"POST /_dash-update-component HTTP/1.1\" 200 -\n",
      "127.0.0.1 - - [24/Jan/2022 19:08:27] \"POST /_dash-update-component HTTP/1.1\" 200 -\n",
      "127.0.0.1 - - [24/Jan/2022 19:08:28] \"POST /_dash-update-component HTTP/1.1\" 200 -\n",
      "127.0.0.1 - - [24/Jan/2022 19:08:29] \"POST /_dash-update-component HTTP/1.1\" 200 -\n"
     ]
    }
   ],
   "source": [
    "app_testing.run_server(debug=False,\n",
    "                      port=999)"
   ]
  },
  {
   "cell_type": "code",
   "execution_count": null,
   "id": "635230c3",
   "metadata": {},
   "outputs": [],
   "source": []
  }
 ],
 "metadata": {
  "interpreter": {
   "hash": "1dbe9e2b98e8a6046ff04cd9e69ff624ca099534c38f7e708400577b44a482ab"
  },
  "kernelspec": {
   "display_name": "Python [conda env:visualizer]",
   "language": "python",
   "name": "python3"
  },
  "language_info": {
   "codemirror_mode": {
    "name": "ipython",
    "version": 3
   },
   "file_extension": ".py",
   "mimetype": "text/x-python",
   "name": "python",
   "nbconvert_exporter": "python",
   "pygments_lexer": "ipython3",
   "version": "3.9.7"
  }
 },
 "nbformat": 4,
 "nbformat_minor": 5
}
