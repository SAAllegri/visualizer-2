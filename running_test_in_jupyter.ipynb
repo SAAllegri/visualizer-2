{
 "cells": [
  {
   "cell_type": "code",
   "execution_count": 1,
   "id": "dadb2202",
   "metadata": {},
   "outputs": [],
   "source": [
    "from IPython import display\n",
    "from app import app as app_testing\n",
    "from generate_graph import Generate_Graph"
   ]
  },
  {
   "cell_type": "code",
   "execution_count": null,
   "id": "7235d4fa",
   "metadata": {},
   "outputs": [],
   "source": [
    "app_testing.run_server(debug=False,\n",
    "                      port=999)"
   ]
  },
  {
   "cell_type": "code",
   "execution_count": null,
   "id": "635230c3",
   "metadata": {},
   "outputs": [],
   "source": []
  }
 ],
 "metadata": {
  "kernelspec": {
   "display_name": "Python [conda env:visualizer]",
   "language": "python",
   "name": "conda-env-visualizer-py"
  },
  "language_info": {
   "codemirror_mode": {
    "name": "ipython",
    "version": 3
   },
   "file_extension": ".py",
   "mimetype": "text/x-python",
   "name": "python",
   "nbconvert_exporter": "python",
   "pygments_lexer": "ipython3",
   "version": "3.9.7"
  }
 },
 "nbformat": 4,
 "nbformat_minor": 5
}
